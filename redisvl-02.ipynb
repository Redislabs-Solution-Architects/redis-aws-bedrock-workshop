{
  "cells": [
    {
      "cell_type": "markdown",
      "metadata": {
        "id": "R2-i8jBl9GRH"
      },
      "source": [
        "![Redis](https://redis.com/wp-content/themes/wpx/assets/images/logo-redis.svg?auto=webp&quality=85,75&width=120)\n",
        "\n",
        "# RAG from scratch with the Redis Vector Library\n",
        "\n",
        "Having established a solid understanding of Redis data structures and fundamental search functionalities, this notebook progresses further along that trajectory. It introduces [redisvl](https://redisvl.com)), an exclusive Python client library tailored for enhancing GenAI application development.\n",
        "\n",
        "We'll begin with the same preliminary setup and data preparation steps, then embark on constructing an **end-to-end RAG system from the ground up**, incorporating several specialized topics and techniques:\n",
        "\n",
        "- Creating dense content representation\n",
        "- Implementing query rewriting/expansion\n",
        "- Utilizing semantic caching\n",
        "- Ensuring conversational memory persistence"
      ]
    },
    {
      "cell_type": "markdown",
      "metadata": {
        "id": "rT9HzsnQ1uiz"
      },
      "source": [
        "## Environment Setup\n",
        "\n",
        "### Pull Github Materials\n",
        "Because you are likely running this notebook in **Jupyter Notebook**, we need to first\n",
        "pull the necessary dataset and materials directly from GitHub.\n",
        "\n",
        "**If you are running this notebook locally**, FYI you may not need to perform this\n",
        "step at all."
      ]
    },
    {
      "cell_type": "code",
      "execution_count": 1,
      "metadata": {
        "id": "AJJ2UW6M1ui0"
      },
      "outputs": [
        {
          "name": "stdout",
          "output_type": "stream",
          "text": [
            "Cloning into 'temp_repo'...\n",
            "remote: Enumerating objects: 138, done.\u001b[K\n",
            "remote: Counting objects: 100% (138/138), done.\u001b[K\n",
            "remote: Compressing objects: 100% (98/98), done.\u001b[K\n",
            "remote: Total 138 (delta 68), reused 91 (delta 35), pack-reused 0\u001b[K\n",
            "Receiving objects: 100% (138/138), 7.19 MiB | 6.66 MiB/s, done.\n",
            "Resolving deltas: 100% (68/68), done.\n",
            "mv: rename temp_repo/resources to ./resources: Directory not empty\n"
          ]
        }
      ],
      "source": [
        "# This clones the supporting git repository into a directory named 'temp_repo'.\n",
        "!git clone https://github.com/redis-developer/financial-vss.git temp_repo\n",
        "\n",
        "# This command moves the 'resources' directory from 'temp_repo' to your current directory.\n",
        "!mv temp_repo/resources .\n",
        "!mv temp_repo/requirements.txt .\n",
        "\n",
        "# This deletes the 'temp_repo' directory, cleaning up the unwanted files.\n",
        "!rm -rf temp_repo"
      ]
    },
    {
      "cell_type": "markdown",
      "metadata": {
        "id": "Z67mf6T91ui2"
      },
      "source": [
        "### Install Python Dependencies"
      ]
    },
    {
      "cell_type": "code",
      "execution_count": 2,
      "metadata": {
        "id": "DgxBQFXQ1ui2"
      },
      "outputs": [
        {
          "name": "stdout",
          "output_type": "stream",
          "text": [
            "Requirement already satisfied: openai in /Users/manisharora/opt/anaconda3/lib/python3.9/site-packages (from -r requirements.txt (line 1)) (1.14.3)\n",
            "Requirement already satisfied: tiktoken in /Users/manisharora/opt/anaconda3/lib/python3.9/site-packages (from -r requirements.txt (line 2)) (0.6.0)\n",
            "Requirement already satisfied: langchain in /Users/manisharora/opt/anaconda3/lib/python3.9/site-packages (from -r requirements.txt (line 3)) (0.1.13)\n",
            "Requirement already satisfied: sentence-transformers in /Users/manisharora/opt/anaconda3/lib/python3.9/site-packages (from -r requirements.txt (line 5)) (2.6.1)\n",
            "Requirement already satisfied: pandas in /Users/manisharora/opt/anaconda3/lib/python3.9/site-packages (from -r requirements.txt (line 6)) (2.2.0)\n",
            "Requirement already satisfied: pdf2image in /Users/manisharora/opt/anaconda3/lib/python3.9/site-packages (from -r requirements.txt (line 7)) (1.17.0)\n",
            "Requirement already satisfied: redisvl>=0.1.0 in /Users/manisharora/opt/anaconda3/lib/python3.9/site-packages (from -r requirements.txt (line 8)) (0.1.2)\n",
            "Requirement already satisfied: unstructured[pdf] in /Users/manisharora/opt/anaconda3/lib/python3.9/site-packages (from -r requirements.txt (line 4)) (0.12.6)\n",
            "Requirement already satisfied: anyio<5,>=3.5.0 in /Users/manisharora/opt/anaconda3/lib/python3.9/site-packages (from openai->-r requirements.txt (line 1)) (3.6.1)\n",
            "Requirement already satisfied: distro<2,>=1.7.0 in /Users/manisharora/opt/anaconda3/lib/python3.9/site-packages (from openai->-r requirements.txt (line 1)) (1.8.0)\n",
            "Requirement already satisfied: httpx<1,>=0.23.0 in /Users/manisharora/opt/anaconda3/lib/python3.9/site-packages (from openai->-r requirements.txt (line 1)) (0.27.0)\n",
            "Requirement already satisfied: pydantic<3,>=1.9.0 in /Users/manisharora/opt/anaconda3/lib/python3.9/site-packages (from openai->-r requirements.txt (line 1)) (2.6.4)\n",
            "Requirement already satisfied: sniffio in /Users/manisharora/opt/anaconda3/lib/python3.9/site-packages (from openai->-r requirements.txt (line 1)) (1.3.0)\n",
            "Requirement already satisfied: tqdm>4 in /Users/manisharora/opt/anaconda3/lib/python3.9/site-packages (from openai->-r requirements.txt (line 1)) (4.66.2)\n",
            "Requirement already satisfied: typing-extensions<5,>=4.7 in /Users/manisharora/opt/anaconda3/lib/python3.9/site-packages (from openai->-r requirements.txt (line 1)) (4.9.0)\n",
            "Requirement already satisfied: regex>=2022.1.18 in /Users/manisharora/opt/anaconda3/lib/python3.9/site-packages (from tiktoken->-r requirements.txt (line 2)) (2023.12.25)\n",
            "Requirement already satisfied: requests>=2.26.0 in /Users/manisharora/opt/anaconda3/lib/python3.9/site-packages (from tiktoken->-r requirements.txt (line 2)) (2.31.0)\n",
            "Requirement already satisfied: PyYAML>=5.3 in /Users/manisharora/opt/anaconda3/lib/python3.9/site-packages (from langchain->-r requirements.txt (line 3)) (6.0.1)\n",
            "Requirement already satisfied: SQLAlchemy<3,>=1.4 in /Users/manisharora/opt/anaconda3/lib/python3.9/site-packages (from langchain->-r requirements.txt (line 3)) (2.0.25)\n",
            "Requirement already satisfied: aiohttp<4.0.0,>=3.8.3 in /Users/manisharora/opt/anaconda3/lib/python3.9/site-packages (from langchain->-r requirements.txt (line 3)) (3.9.3)\n",
            "Requirement already satisfied: async-timeout<5.0.0,>=4.0.0 in /Users/manisharora/opt/anaconda3/lib/python3.9/site-packages (from langchain->-r requirements.txt (line 3)) (4.0.2)\n",
            "Requirement already satisfied: dataclasses-json<0.7,>=0.5.7 in /Users/manisharora/opt/anaconda3/lib/python3.9/site-packages (from langchain->-r requirements.txt (line 3)) (0.6.4)\n",
            "Requirement already satisfied: jsonpatch<2.0,>=1.33 in /Users/manisharora/opt/anaconda3/lib/python3.9/site-packages (from langchain->-r requirements.txt (line 3)) (1.33)\n",
            "Requirement already satisfied: langchain-community<0.1,>=0.0.29 in /Users/manisharora/opt/anaconda3/lib/python3.9/site-packages (from langchain->-r requirements.txt (line 3)) (0.0.29)\n",
            "Requirement already satisfied: langchain-core<0.2.0,>=0.1.33 in /Users/manisharora/opt/anaconda3/lib/python3.9/site-packages (from langchain->-r requirements.txt (line 3)) (0.1.33)\n",
            "Requirement already satisfied: langchain-text-splitters<0.1,>=0.0.1 in /Users/manisharora/opt/anaconda3/lib/python3.9/site-packages (from langchain->-r requirements.txt (line 3)) (0.0.1)\n",
            "Requirement already satisfied: langsmith<0.2.0,>=0.1.17 in /Users/manisharora/opt/anaconda3/lib/python3.9/site-packages (from langchain->-r requirements.txt (line 3)) (0.1.31)\n",
            "Requirement already satisfied: numpy<2,>=1 in /Users/manisharora/opt/anaconda3/lib/python3.9/site-packages (from langchain->-r requirements.txt (line 3)) (1.26.4)\n",
            "Requirement already satisfied: tenacity<9.0.0,>=8.1.0 in /Users/manisharora/opt/anaconda3/lib/python3.9/site-packages (from langchain->-r requirements.txt (line 3)) (8.2.2)\n",
            "Requirement already satisfied: backoff==2.2.1 in /Users/manisharora/opt/anaconda3/lib/python3.9/site-packages (from unstructured[pdf]->-r requirements.txt (line 4)) (2.2.1)\n",
            "Requirement already satisfied: beautifulsoup4==4.12.3 in /Users/manisharora/opt/anaconda3/lib/python3.9/site-packages (from unstructured[pdf]->-r requirements.txt (line 4)) (4.12.3)\n",
            "Requirement already satisfied: certifi==2024.2.2 in /Users/manisharora/opt/anaconda3/lib/python3.9/site-packages (from unstructured[pdf]->-r requirements.txt (line 4)) (2024.2.2)\n",
            "Requirement already satisfied: chardet==5.2.0 in /Users/manisharora/opt/anaconda3/lib/python3.9/site-packages (from unstructured[pdf]->-r requirements.txt (line 4)) (5.2.0)\n",
            "Requirement already satisfied: charset-normalizer==3.3.2 in /Users/manisharora/opt/anaconda3/lib/python3.9/site-packages (from unstructured[pdf]->-r requirements.txt (line 4)) (3.3.2)\n",
            "Requirement already satisfied: click==8.1.7 in /Users/manisharora/opt/anaconda3/lib/python3.9/site-packages (from unstructured[pdf]->-r requirements.txt (line 4)) (8.1.7)\n",
            "Requirement already satisfied: dataclasses-json-speakeasy==0.5.11 in /Users/manisharora/opt/anaconda3/lib/python3.9/site-packages (from unstructured[pdf]->-r requirements.txt (line 4)) (0.5.11)\n",
            "Requirement already satisfied: emoji==2.10.1 in /Users/manisharora/opt/anaconda3/lib/python3.9/site-packages (from unstructured[pdf]->-r requirements.txt (line 4)) (2.10.1)\n",
            "Requirement already satisfied: filetype==1.2.0 in /Users/manisharora/opt/anaconda3/lib/python3.9/site-packages (from unstructured[pdf]->-r requirements.txt (line 4)) (1.2.0)\n",
            "Requirement already satisfied: idna==3.6 in /Users/manisharora/opt/anaconda3/lib/python3.9/site-packages (from unstructured[pdf]->-r requirements.txt (line 4)) (3.6)\n",
            "Requirement already satisfied: joblib==1.3.2 in /Users/manisharora/opt/anaconda3/lib/python3.9/site-packages (from unstructured[pdf]->-r requirements.txt (line 4)) (1.3.2)\n",
            "Requirement already satisfied: jsonpath-python==1.0.6 in /Users/manisharora/opt/anaconda3/lib/python3.9/site-packages (from unstructured[pdf]->-r requirements.txt (line 4)) (1.0.6)\n",
            "Requirement already satisfied: langdetect==1.0.9 in /Users/manisharora/opt/anaconda3/lib/python3.9/site-packages (from unstructured[pdf]->-r requirements.txt (line 4)) (1.0.9)\n",
            "Requirement already satisfied: lxml==5.1.0 in /Users/manisharora/opt/anaconda3/lib/python3.9/site-packages (from unstructured[pdf]->-r requirements.txt (line 4)) (5.1.0)\n",
            "Requirement already satisfied: marshmallow==3.20.2 in /Users/manisharora/opt/anaconda3/lib/python3.9/site-packages (from unstructured[pdf]->-r requirements.txt (line 4)) (3.20.2)\n",
            "Requirement already satisfied: mypy-extensions==1.0.0 in /Users/manisharora/opt/anaconda3/lib/python3.9/site-packages (from unstructured[pdf]->-r requirements.txt (line 4)) (1.0.0)\n",
            "Requirement already satisfied: nltk==3.8.1 in /Users/manisharora/opt/anaconda3/lib/python3.9/site-packages (from unstructured[pdf]->-r requirements.txt (line 4)) (3.8.1)\n",
            "Requirement already satisfied: packaging==23.2 in /Users/manisharora/opt/anaconda3/lib/python3.9/site-packages (from unstructured[pdf]->-r requirements.txt (line 4)) (23.2)\n",
            "Requirement already satisfied: python-dateutil==2.8.2 in /Users/manisharora/opt/anaconda3/lib/python3.9/site-packages (from unstructured[pdf]->-r requirements.txt (line 4)) (2.8.2)\n",
            "Requirement already satisfied: python-iso639==2024.2.7 in /Users/manisharora/opt/anaconda3/lib/python3.9/site-packages (from unstructured[pdf]->-r requirements.txt (line 4)) (2024.2.7)\n",
            "Requirement already satisfied: python-magic==0.4.27 in /Users/manisharora/opt/anaconda3/lib/python3.9/site-packages (from unstructured[pdf]->-r requirements.txt (line 4)) (0.4.27)\n",
            "Requirement already satisfied: rapidfuzz==3.6.1 in /Users/manisharora/opt/anaconda3/lib/python3.9/site-packages (from unstructured[pdf]->-r requirements.txt (line 4)) (3.6.1)\n",
            "Requirement already satisfied: six==1.16.0 in /Users/manisharora/opt/anaconda3/lib/python3.9/site-packages (from unstructured[pdf]->-r requirements.txt (line 4)) (1.16.0)\n",
            "Requirement already satisfied: soupsieve==2.5 in /Users/manisharora/opt/anaconda3/lib/python3.9/site-packages (from unstructured[pdf]->-r requirements.txt (line 4)) (2.5)\n",
            "Requirement already satisfied: tabulate==0.9.0 in /Users/manisharora/opt/anaconda3/lib/python3.9/site-packages (from unstructured[pdf]->-r requirements.txt (line 4)) (0.9.0)\n",
            "Requirement already satisfied: typing-inspect==0.9.0 in /Users/manisharora/opt/anaconda3/lib/python3.9/site-packages (from unstructured[pdf]->-r requirements.txt (line 4)) (0.9.0)\n",
            "Requirement already satisfied: unstructured-client==0.18.0 in /Users/manisharora/opt/anaconda3/lib/python3.9/site-packages (from unstructured[pdf]->-r requirements.txt (line 4)) (0.18.0)\n",
            "Requirement already satisfied: urllib3==1.26.18 in /Users/manisharora/opt/anaconda3/lib/python3.9/site-packages (from unstructured[pdf]->-r requirements.txt (line 4)) (1.26.18)\n",
            "Requirement already satisfied: wrapt==1.16.0 in /Users/manisharora/opt/anaconda3/lib/python3.9/site-packages (from unstructured[pdf]->-r requirements.txt (line 4)) (1.16.0)\n",
            "Requirement already satisfied: antlr4-python3-runtime==4.9.3 in /Users/manisharora/opt/anaconda3/lib/python3.9/site-packages (from unstructured[pdf]->-r requirements.txt (line 4)) (4.9.3)\n",
            "Requirement already satisfied: cffi==1.16.0 in /Users/manisharora/opt/anaconda3/lib/python3.9/site-packages (from unstructured[pdf]->-r requirements.txt (line 4)) (1.16.0)\n",
            "Requirement already satisfied: coloredlogs==15.0.1 in /Users/manisharora/opt/anaconda3/lib/python3.9/site-packages (from unstructured[pdf]->-r requirements.txt (line 4)) (15.0.1)\n",
            "Requirement already satisfied: contourpy==1.2.0 in /Users/manisharora/opt/anaconda3/lib/python3.9/site-packages (from unstructured[pdf]->-r requirements.txt (line 4)) (1.2.0)\n",
            "Requirement already satisfied: cryptography==42.0.2 in /Users/manisharora/opt/anaconda3/lib/python3.9/site-packages (from unstructured[pdf]->-r requirements.txt (line 4)) (42.0.2)\n",
            "Requirement already satisfied: cycler==0.12.1 in /Users/manisharora/opt/anaconda3/lib/python3.9/site-packages (from unstructured[pdf]->-r requirements.txt (line 4)) (0.12.1)\n",
            "Requirement already satisfied: deprecated==1.2.14 in /Users/manisharora/opt/anaconda3/lib/python3.9/site-packages (from unstructured[pdf]->-r requirements.txt (line 4)) (1.2.14)\n",
            "Requirement already satisfied: effdet==0.4.1 in /Users/manisharora/opt/anaconda3/lib/python3.9/site-packages (from unstructured[pdf]->-r requirements.txt (line 4)) (0.4.1)\n",
            "Requirement already satisfied: filelock==3.13.1 in /Users/manisharora/opt/anaconda3/lib/python3.9/site-packages (from unstructured[pdf]->-r requirements.txt (line 4)) (3.13.1)\n",
            "Requirement already satisfied: flatbuffers==23.5.26 in /Users/manisharora/opt/anaconda3/lib/python3.9/site-packages (from unstructured[pdf]->-r requirements.txt (line 4)) (23.5.26)\n",
            "Requirement already satisfied: fonttools==4.49.0 in /Users/manisharora/opt/anaconda3/lib/python3.9/site-packages (from unstructured[pdf]->-r requirements.txt (line 4)) (4.49.0)\n",
            "Requirement already satisfied: fsspec==2024.2.0 in /Users/manisharora/opt/anaconda3/lib/python3.9/site-packages (from unstructured[pdf]->-r requirements.txt (line 4)) (2024.2.0)\n",
            "Requirement already satisfied: huggingface-hub==0.20.3 in /Users/manisharora/opt/anaconda3/lib/python3.9/site-packages (from unstructured[pdf]->-r requirements.txt (line 4)) (0.20.3)\n",
            "Requirement already satisfied: humanfriendly==10.0 in /Users/manisharora/opt/anaconda3/lib/python3.9/site-packages (from unstructured[pdf]->-r requirements.txt (line 4)) (10.0)\n",
            "Requirement already satisfied: importlib-resources==6.1.1 in /Users/manisharora/opt/anaconda3/lib/python3.9/site-packages (from unstructured[pdf]->-r requirements.txt (line 4)) (6.1.1)\n",
            "Requirement already satisfied: iopath==0.1.10 in /Users/manisharora/opt/anaconda3/lib/python3.9/site-packages (from unstructured[pdf]->-r requirements.txt (line 4)) (0.1.10)\n",
            "Requirement already satisfied: jinja2==3.1.3 in /Users/manisharora/opt/anaconda3/lib/python3.9/site-packages (from unstructured[pdf]->-r requirements.txt (line 4)) (3.1.3)\n",
            "Requirement already satisfied: kiwisolver==1.4.5 in /Users/manisharora/opt/anaconda3/lib/python3.9/site-packages (from unstructured[pdf]->-r requirements.txt (line 4)) (1.4.5)\n",
            "Requirement already satisfied: layoutparser==0.3.4 in /Users/manisharora/opt/anaconda3/lib/python3.9/site-packages (from layoutparser[layoutmodels,tesseract]==0.3.4; extra == \"pdf\"->unstructured[pdf]->-r requirements.txt (line 4)) (0.3.4)\n",
            "Requirement already satisfied: markupsafe==2.1.5 in /Users/manisharora/opt/anaconda3/lib/python3.9/site-packages (from unstructured[pdf]->-r requirements.txt (line 4)) (2.1.5)\n",
            "Requirement already satisfied: matplotlib==3.7.2 in /Users/manisharora/opt/anaconda3/lib/python3.9/site-packages (from unstructured[pdf]->-r requirements.txt (line 4)) (3.7.2)\n",
            "Requirement already satisfied: mpmath==1.3.0 in /Users/manisharora/opt/anaconda3/lib/python3.9/site-packages (from unstructured[pdf]->-r requirements.txt (line 4)) (1.3.0)\n",
            "Requirement already satisfied: networkx==3.2.1 in /Users/manisharora/opt/anaconda3/lib/python3.9/site-packages (from unstructured[pdf]->-r requirements.txt (line 4)) (3.2.1)\n",
            "Requirement already satisfied: omegaconf==2.3.0 in /Users/manisharora/opt/anaconda3/lib/python3.9/site-packages (from unstructured[pdf]->-r requirements.txt (line 4)) (2.3.0)\n",
            "Requirement already satisfied: onnx==1.15.0 in /Users/manisharora/opt/anaconda3/lib/python3.9/site-packages (from unstructured[pdf]->-r requirements.txt (line 4)) (1.15.0)\n",
            "Requirement already satisfied: onnxruntime==1.15.1 in /Users/manisharora/opt/anaconda3/lib/python3.9/site-packages (from unstructured[pdf]->-r requirements.txt (line 4)) (1.15.1)\n",
            "Requirement already satisfied: opencv-python==4.8.0.76 in /Users/manisharora/opt/anaconda3/lib/python3.9/site-packages (from unstructured[pdf]->-r requirements.txt (line 4)) (4.8.0.76)\n",
            "Requirement already satisfied: pdfminer-six==20221105 in /Users/manisharora/opt/anaconda3/lib/python3.9/site-packages (from unstructured[pdf]->-r requirements.txt (line 4)) (20221105)\n",
            "Requirement already satisfied: pdfplumber==0.10.4 in /Users/manisharora/opt/anaconda3/lib/python3.9/site-packages (from unstructured[pdf]->-r requirements.txt (line 4)) (0.10.4)\n",
            "Requirement already satisfied: pikepdf==8.11.0 in /Users/manisharora/opt/anaconda3/lib/python3.9/site-packages (from unstructured[pdf]->-r requirements.txt (line 4)) (8.11.0)\n",
            "Requirement already satisfied: pillow==10.2.0 in /Users/manisharora/opt/anaconda3/lib/python3.9/site-packages (from unstructured[pdf]->-r requirements.txt (line 4)) (10.2.0)\n",
            "Requirement already satisfied: pillow-heif==0.15.0 in /Users/manisharora/opt/anaconda3/lib/python3.9/site-packages (from unstructured[pdf]->-r requirements.txt (line 4)) (0.15.0)\n",
            "Requirement already satisfied: portalocker==2.8.2 in /Users/manisharora/opt/anaconda3/lib/python3.9/site-packages (from unstructured[pdf]->-r requirements.txt (line 4)) (2.8.2)\n",
            "Requirement already satisfied: protobuf==4.23.4 in /Users/manisharora/opt/anaconda3/lib/python3.9/site-packages (from unstructured[pdf]->-r requirements.txt (line 4)) (4.23.4)\n",
            "Requirement already satisfied: pycocotools==2.0.7 in /Users/manisharora/opt/anaconda3/lib/python3.9/site-packages (from unstructured[pdf]->-r requirements.txt (line 4)) (2.0.7)\n",
            "Requirement already satisfied: pycparser==2.21 in /Users/manisharora/opt/anaconda3/lib/python3.9/site-packages (from unstructured[pdf]->-r requirements.txt (line 4)) (2.21)\n",
            "Requirement already satisfied: pyparsing==3.0.9 in /Users/manisharora/opt/anaconda3/lib/python3.9/site-packages (from unstructured[pdf]->-r requirements.txt (line 4)) (3.0.9)\n",
            "Requirement already satisfied: pypdf==4.0.1 in /Users/manisharora/opt/anaconda3/lib/python3.9/site-packages (from unstructured[pdf]->-r requirements.txt (line 4)) (4.0.1)\n",
            "Requirement already satisfied: pypdfium2==4.27.0 in /Users/manisharora/opt/anaconda3/lib/python3.9/site-packages (from unstructured[pdf]->-r requirements.txt (line 4)) (4.27.0)\n",
            "Requirement already satisfied: pytesseract==0.3.10 in /Users/manisharora/opt/anaconda3/lib/python3.9/site-packages (from unstructured[pdf]->-r requirements.txt (line 4)) (0.3.10)\n",
            "Requirement already satisfied: python-multipart==0.0.9 in /Users/manisharora/opt/anaconda3/lib/python3.9/site-packages (from unstructured[pdf]->-r requirements.txt (line 4)) (0.0.9)\n",
            "Requirement already satisfied: pytz==2024.1 in /Users/manisharora/opt/anaconda3/lib/python3.9/site-packages (from unstructured[pdf]->-r requirements.txt (line 4)) (2024.1)\n",
            "Requirement already satisfied: safetensors==0.3.2 in /Users/manisharora/opt/anaconda3/lib/python3.9/site-packages (from unstructured[pdf]->-r requirements.txt (line 4)) (0.3.2)\n",
            "Requirement already satisfied: scipy==1.10.1 in /Users/manisharora/opt/anaconda3/lib/python3.9/site-packages (from unstructured[pdf]->-r requirements.txt (line 4)) (1.10.1)\n",
            "Requirement already satisfied: sympy==1.12 in /Users/manisharora/opt/anaconda3/lib/python3.9/site-packages (from unstructured[pdf]->-r requirements.txt (line 4)) (1.12)\n",
            "Requirement already satisfied: timm==0.9.12 in /Users/manisharora/opt/anaconda3/lib/python3.9/site-packages (from unstructured[pdf]->-r requirements.txt (line 4)) (0.9.12)\n",
            "Requirement already satisfied: tokenizers==0.15.2 in /Users/manisharora/opt/anaconda3/lib/python3.9/site-packages (from unstructured[pdf]->-r requirements.txt (line 4)) (0.15.2)\n",
            "Requirement already satisfied: torch==2.2.0 in /Users/manisharora/opt/anaconda3/lib/python3.9/site-packages (from unstructured[pdf]->-r requirements.txt (line 4)) (2.2.0)\n",
            "Requirement already satisfied: torchvision==0.17.0 in /Users/manisharora/opt/anaconda3/lib/python3.9/site-packages (from unstructured[pdf]->-r requirements.txt (line 4)) (0.17.0)\n",
            "Requirement already satisfied: transformers==4.37.1 in /Users/manisharora/opt/anaconda3/lib/python3.9/site-packages (from unstructured[pdf]->-r requirements.txt (line 4)) (4.37.1)\n",
            "Requirement already satisfied: tzdata==2024.1 in /Users/manisharora/opt/anaconda3/lib/python3.9/site-packages (from unstructured[pdf]->-r requirements.txt (line 4)) (2024.1)\n",
            "Requirement already satisfied: unstructured-inference==0.7.23 in /Users/manisharora/opt/anaconda3/lib/python3.9/site-packages (from unstructured[pdf]->-r requirements.txt (line 4)) (0.7.23)\n",
            "Requirement already satisfied: unstructured-pytesseract==0.3.12 in /Users/manisharora/opt/anaconda3/lib/python3.9/site-packages (from unstructured[pdf]->-r requirements.txt (line 4)) (0.3.12)\n",
            "Requirement already satisfied: zipp==3.17.0 in /Users/manisharora/opt/anaconda3/lib/python3.9/site-packages (from unstructured[pdf]->-r requirements.txt (line 4)) (3.17.0)\n",
            "Requirement already satisfied: scikit-learn in /Users/manisharora/opt/anaconda3/lib/python3.9/site-packages (from sentence-transformers->-r requirements.txt (line 5)) (1.2.2)\n",
            "Collecting redis>=5.0.0 (from redisvl>=0.1.0->-r requirements.txt (line 8))\n",
            "  Using cached redis-5.0.3-py3-none-any.whl.metadata (9.3 kB)\n",
            "Requirement already satisfied: aiosignal>=1.1.2 in /Users/manisharora/opt/anaconda3/lib/python3.9/site-packages (from aiohttp<4.0.0,>=3.8.3->langchain->-r requirements.txt (line 3)) (1.2.0)\n",
            "Requirement already satisfied: attrs>=17.3.0 in /Users/manisharora/opt/anaconda3/lib/python3.9/site-packages (from aiohttp<4.0.0,>=3.8.3->langchain->-r requirements.txt (line 3)) (23.1.0)\n",
            "Requirement already satisfied: frozenlist>=1.1.1 in /Users/manisharora/opt/anaconda3/lib/python3.9/site-packages (from aiohttp<4.0.0,>=3.8.3->langchain->-r requirements.txt (line 3)) (1.4.0)\n",
            "Requirement already satisfied: multidict<7.0,>=4.5 in /Users/manisharora/opt/anaconda3/lib/python3.9/site-packages (from aiohttp<4.0.0,>=3.8.3->langchain->-r requirements.txt (line 3)) (6.0.4)\n",
            "Requirement already satisfied: yarl<2.0,>=1.0 in /Users/manisharora/opt/anaconda3/lib/python3.9/site-packages (from aiohttp<4.0.0,>=3.8.3->langchain->-r requirements.txt (line 3)) (1.9.3)\n",
            "Requirement already satisfied: httpcore==1.* in /Users/manisharora/opt/anaconda3/lib/python3.9/site-packages (from httpx<1,>=0.23.0->openai->-r requirements.txt (line 1)) (1.0.4)\n",
            "Requirement already satisfied: h11<0.15,>=0.13 in /Users/manisharora/opt/anaconda3/lib/python3.9/site-packages (from httpcore==1.*->httpx<1,>=0.23.0->openai->-r requirements.txt (line 1)) (0.13.0)\n",
            "Requirement already satisfied: jsonpointer>=1.9 in /Users/manisharora/opt/anaconda3/lib/python3.9/site-packages (from jsonpatch<2.0,>=1.33->langchain->-r requirements.txt (line 3)) (2.1)\n",
            "Requirement already satisfied: orjson<4.0.0,>=3.9.14 in /Users/manisharora/opt/anaconda3/lib/python3.9/site-packages (from langsmith<0.2.0,>=0.1.17->langchain->-r requirements.txt (line 3)) (3.9.15)\n",
            "Requirement already satisfied: annotated-types>=0.4.0 in /Users/manisharora/opt/anaconda3/lib/python3.9/site-packages (from pydantic<3,>=1.9.0->openai->-r requirements.txt (line 1)) (0.6.0)\n",
            "Requirement already satisfied: pydantic-core==2.16.3 in /Users/manisharora/opt/anaconda3/lib/python3.9/site-packages (from pydantic<3,>=1.9.0->openai->-r requirements.txt (line 1)) (2.16.3)\n",
            "Collecting async-timeout<5.0.0,>=4.0.0 (from langchain->-r requirements.txt (line 3))\n",
            "  Using cached async_timeout-4.0.3-py3-none-any.whl.metadata (4.2 kB)\n",
            "Requirement already satisfied: greenlet!=0.4.17 in /Users/manisharora/opt/anaconda3/lib/python3.9/site-packages (from SQLAlchemy<3,>=1.4->langchain->-r requirements.txt (line 3)) (3.0.1)\n",
            "Requirement already satisfied: threadpoolctl>=2.0.0 in /Users/manisharora/opt/anaconda3/lib/python3.9/site-packages (from scikit-learn->sentence-transformers->-r requirements.txt (line 5)) (2.2.0)\n",
            "Using cached redis-5.0.3-py3-none-any.whl (251 kB)\n",
            "Using cached async_timeout-4.0.3-py3-none-any.whl (5.7 kB)\n",
            "Installing collected packages: async-timeout, redis\n",
            "  Attempting uninstall: async-timeout\n",
            "    Found existing installation: async-timeout 4.0.2\n",
            "    Uninstalling async-timeout-4.0.2:\n",
            "      Successfully uninstalled async-timeout-4.0.2\n",
            "  Attempting uninstall: redis\n",
            "    Found existing installation: redis 4.5.1\n",
            "    Uninstalling redis-4.5.1:\n",
            "      Successfully uninstalled redis-4.5.1\n",
            "\u001b[31mERROR: pip's dependency resolver does not currently take into account all the packages that are installed. This behaviour is the source of the following dependency conflicts.\n",
            "datasets 2.12.0 requires dill<0.3.7,>=0.3.0, but you have dill 0.3.7 which is incompatible.\n",
            "s3fs 2023.4.0 requires fsspec==2023.4.0, but you have fsspec 2024.2.0 which is incompatible.\u001b[0m\u001b[31m\n",
            "\u001b[0mSuccessfully installed async-timeout-4.0.3 redis-5.0.3\n"
          ]
        }
      ],
      "source": [
        "!pip install -r requirements.txt"
      ]
    },
    {
      "cell_type": "code",
      "execution_count": 3,
      "metadata": {
        "id": "oTeBg4AvjdYs"
      },
      "outputs": [],
      "source": [
        "import warnings\n",
        "\n",
        "warnings.filterwarnings(\"ignore\")"
      ]
    },
    {
      "cell_type": "markdown",
      "metadata": {},
      "source": [
        "### Install Redis Stack\n",
        "\n",
        "Later in this tutorial, Redis will be used to store, index, and query vector\n",
        "embeddings created from PDF document chunks. **We need to make sure we have a Redis\n",
        "instance available.**"
      ]
    },
    {
      "cell_type": "markdown",
      "metadata": {},
      "source": [
        "#### Method 1: localized Redis Stack\n",
        "Use the shell script below to download, extract, and install [Redis Stack](https://redis.io/docs/getting-started/install-stack/) directly\n",
        "from the Redis package archive."
      ]
    },
    {
      "cell_type": "code",
      "execution_count": 4,
      "metadata": {},
      "outputs": [],
      "source": [
        "##%%sh\n",
        "##curl -fsSL https://packages.redis.io/gpg | sudo gpg --dearmor -o /usr/share/keyrings/redis-archive-keyring.gpg\n",
        "##echo \"deb [signed-by=/usr/share/keyrings/redis-archive-keyring.gpg] https://packages.redis.io/deb $(lsb_release -cs) main\" | sudo tee /etc/apt/sources.list.d/redis.list\n",
        "##sudo apt-get update  > /dev/null 2>&1\n",
        "##sudo apt-get install redis-stack-server  > /dev/null 2>&1\n",
        "##redis-stack-server --daemonize yes"
      ]
    },
    {
      "cell_type": "markdown",
      "metadata": {},
      "source": [
        "#### Method 2: Redis Cloud\n",
        "Instead of using the in-notebook, localized Redis Stack, you can quickly deploy a\n",
        "[FREE instance of Redis in the cloud](https://redis.com/try-free/). Or, if you have your\n",
        "own version of Redis Enterprise running, that works too!"
      ]
    },
    {
      "cell_type": "markdown",
      "metadata": {},
      "source": [
        "### Define the Redis Connection URL\n",
        "\n",
        "Since this notebook is linked to my Redis Cloud instance, it's advisable for you to set up your own instance to prevent any interference with our work. Make sure to utilize your unique Redis credentials:\n",
        "\n",
        "* REDIS_PASSWORD\n",
        "* REDIS_HOST\n",
        "* REDIS_PORT"
      ]
    },
    {
      "cell_type": "code",
      "execution_count": null,
      "metadata": {},
      "outputs": [],
      "source": [
        "import os\n",
        "\n",
        "# Replace values below with your own if using Redis Cloud instance\n",
        "#REDIS_HOST = os.getenv(\"REDIS_HOST\", \"localhost\")\n",
        "#REDIS_PORT = os.getenv(\"REDIS_PORT\", \"6379\")\n",
        "#REDIS_PASSWORD = os.getenv(\"REDIS_PASSWORD\", \"\")\n",
        "#REDIS_HOST=\"redis-18374.c253.us-central1-1.gce.cloud.redislabs.com\"\n",
        "#REDIS_PORT=18374\n",
        "#REDIS_PASSWORD=\"1TNxTEdYRDgIDKM2gDfasupCADXXXX\"\n",
        "\n",
        "# Replace values below with your own if you are using a Redis Cloud instance.\n",
        "REDIS_HOST = \"redis-17834.c322.us-east-1-2.ec2.cloud.redislabs.com\"\n",
        "REDIS_PORT = 17834\n",
        "REDIS_PASSWORD = \"XzJR9ewHpp9hdMVNERloYCMFoavPkgH8\"\n",
        "REDIS_REQUIRE_PASS = True\n",
        "\n",
        "# If SSL is enabled on the endpoint, use rediss:// as the URL prefix\n",
        "REDIS_URL = f\"redis://:{REDIS_PASSWORD}@{REDIS_HOST}:{REDIS_PORT}\""
      ]
    },
    {
      "cell_type": "markdown",
      "metadata": {},
      "source": [
        "## Simplified Vector Search with RedisVL"
      ]
    },
    {
      "cell_type": "markdown",
      "metadata": {
        "id": "KrtWWU4I1ui3"
      },
      "source": [
        "### Dataset Preparation (PDF Documents)\n",
        "\n",
        "To best demonstrate Redis as a vector database layer, we will load a single\n",
        "financial (10k filings) doc and preprocess it using some helpers from LangChain:\n",
        "\n",
        "- `UnstructuredFileLoader` is not the only document loader type that LangChain provides. Docs: https://python.langchain.com/docs/integrations/document_loaders/unstructured_file\n",
        "- `RecursiveCharacterTextSplitter` is what we use to create smaller chunks of text from the doc. Docs: https://python.langchain.com/docs/modules/data_connection/document_transformers/text_splitters/recursive_text_splitter"
      ]
    },
    {
      "cell_type": "code",
      "execution_count": null,
      "metadata": {
        "id": "uijl2qFH1ui3"
      },
      "outputs": [],
      "source": [
        "from langchain.text_splitter import RecursiveCharacterTextSplitter\n",
        "from langchain.document_loaders import UnstructuredFileLoader\n",
        "\n",
        "# Load list of pdfs from a folder\n",
        "data_path = \"resources/\"\n",
        "docs = [os.path.join(data_path, file) for file in os.listdir(data_path)]\n",
        "\n",
        "print(\"Listing available documents ...\", docs)"
      ]
    },
    {
      "cell_type": "code",
      "execution_count": null,
      "metadata": {
        "id": "anya8hVnT6K_"
      },
      "outputs": [],
      "source": [
        "# pick out the Nike doc for this exercise\n",
        "doc = [doc for doc in docs if \"nke\" in doc][0]\n",
        "\n",
        "# set up the file loader/extractor and text splitter to create chunks\n",
        "text_splitter = RecursiveCharacterTextSplitter(\n",
        "    chunk_size=2500, chunk_overlap=0\n",
        ")\n",
        "loader = UnstructuredFileLoader(\n",
        "    doc, mode=\"single\", strategy=\"fast\"\n",
        ")\n",
        "\n",
        "# extract, load, and make chunks\n",
        "chunks = loader.load_and_split(text_splitter)\n",
        "\n",
        "print(\"Done preprocessing. Created\", len(chunks), \"chunks of the original pdf\", doc)"
      ]
    },
    {
      "cell_type": "markdown",
      "metadata": {},
      "source": [
        "### Text embedding generation with RedisVL\n",
        "RedisVL has built-in extensions and utilities to aid the GenAI development process."
      ]
    },
    {
      "cell_type": "code",
      "execution_count": null,
      "metadata": {},
      "outputs": [],
      "source": [
        "from redisvl.utils.vectorize import HFTextVectorizer\n",
        "\n",
        "hf = HFTextVectorizer(\"sentence-transformers/all-MiniLM-L6-v2\")\n",
        "os.environ[\"TOKENIZERS_PARALLELISM\"] = \"false\"\n",
        "\n",
        "# Embed each chunk content\n",
        "embeddings = hf.embed_many([chunk.page_content for chunk in chunks])\n",
        "\n",
        "# Check to make sure we've created enough embeddings, 1 per document chunk\n",
        "len(embeddings) == len(chunks)"
      ]
    },
    {
      "cell_type": "markdown",
      "metadata": {
        "id": "5baI0xDQ1ui-"
      },
      "source": [
        "### Define a schema and create an index\n",
        "\n",
        "Below we connect to Redis and create an index that contains a text field, tag field, and vector field."
      ]
    },
    {
      "cell_type": "code",
      "execution_count": null,
      "metadata": {
        "id": "zB1EW_9n1ui-"
      },
      "outputs": [],
      "source": [
        "from redis import Redis\n",
        "from redisvl.schema import IndexSchema\n",
        "from redisvl.index import SearchIndex\n",
        "\n",
        "index_name = \"redisvl\"\n",
        "\n",
        "schema = IndexSchema.from_dict({\n",
        "  \"index\": {\n",
        "    \"name\": index_name,\n",
        "    \"prefix\": \"chunk\"\n",
        "  },\n",
        "  \"fields\": [\n",
        "    {\n",
        "        \"name\": \"doc_id\",\n",
        "        \"type\": \"tag\",\n",
        "        \"attrs\": {\n",
        "            \"sortable\": True\n",
        "        }\n",
        "    },\n",
        "    {\n",
        "        \"name\": \"content\",\n",
        "        \"type\": \"text\"\n",
        "    },\n",
        "    {\n",
        "        \"name\": \"text_embedding\",\n",
        "        \"type\": \"vector\",\n",
        "        \"attrs\": {\n",
        "            \"dims\": hf.dims,\n",
        "            \"distance_metric\": \"cosine\",\n",
        "            \"algorithm\": \"hnsw\",\n",
        "            \"datatype\": \"float32\"\n",
        "        }\n",
        "    }\n",
        "  ]\n",
        "})"
      ]
    },
    {
      "cell_type": "code",
      "execution_count": null,
      "metadata": {},
      "outputs": [],
      "source": [
        "# connect to redis\n",
        "client = Redis.from_url(REDIS_URL)\n",
        "\n",
        "# create an index from schema and the client\n",
        "index = SearchIndex(schema, client)\n",
        "index.create(overwrite=True, drop=True)"
      ]
    },
    {
      "cell_type": "code",
      "execution_count": null,
      "metadata": {
        "id": "L6GOqmeN1ui_"
      },
      "outputs": [],
      "source": [
        "# use the RedisVL CLI tool to list all indices\n",
        "!rvl index listall"
      ]
    },
    {
      "cell_type": "code",
      "execution_count": null,
      "metadata": {
        "id": "C70C-UWj1ujA"
      },
      "outputs": [],
      "source": [
        "# get info about the index\n",
        "!rvl index info -i redisvl"
      ]
    },
    {
      "cell_type": "markdown",
      "metadata": {
        "id": "Qrj-jeGmBRTL"
      },
      "source": [
        "### Process and load dataset\n",
        "Below we use the RedisVL index to simply load the list of document chunks to Redis db."
      ]
    },
    {
      "cell_type": "code",
      "execution_count": null,
      "metadata": {
        "id": "Zsg09Keg1ujA"
      },
      "outputs": [],
      "source": [
        "# load expects an iterable of dictionaries\n",
        "from redisvl.redis.utils import array_to_buffer\n",
        "\n",
        "data = [\n",
        "    {\n",
        "        'doc_id': f'{i}',\n",
        "        'content': chunk.page_content,\n",
        "        # For HASH -- must convert embeddings to bytes\n",
        "        'text_embedding': array_to_buffer(embeddings[i])\n",
        "    } for i, chunk in enumerate(chunks)\n",
        "]\n",
        "\n",
        "# RedisVL handles batching automatically\n",
        "keys = index.load(data, id_field=\"doc_id\")"
      ]
    },
    {
      "cell_type": "markdown",
      "metadata": {
        "id": "-ZsFB-6Z1ujB"
      },
      "source": [
        "### Query the database\n",
        "Now we can use the RedisVL index to perform similarity search operations with Redis"
      ]
    },
    {
      "cell_type": "code",
      "execution_count": null,
      "metadata": {
        "id": "BkFv-_iC1ujB"
      },
      "outputs": [],
      "source": [
        "from redisvl.query import VectorQuery\n",
        "\n",
        "query = \"Nike profit margins and company performance\"\n",
        "\n",
        "query_embedding = hf.embed(query)\n",
        "\n",
        "vector_query = VectorQuery(\n",
        "    vector=query_embedding,\n",
        "    vector_field_name=\"text_embedding\",\n",
        "    num_results=3,\n",
        "    return_fields=[\"doc_id\", \"content\"],\n",
        "    return_score=True\n",
        ")\n",
        "\n",
        "# show the raw redis query\n",
        "str(vector_query)"
      ]
    },
    {
      "cell_type": "code",
      "execution_count": null,
      "metadata": {
        "id": "5reL5qTW1ujC"
      },
      "outputs": [],
      "source": [
        "# execute the query with RedisVL\n",
        "index.query(vector_query)"
      ]
    },
    {
      "cell_type": "code",
      "execution_count": null,
      "metadata": {
        "id": "rZrcd6n7T6LE"
      },
      "outputs": [],
      "source": [
        "# paginate through results\n",
        "for result in index.paginate(vector_query, page_size=1):\n",
        "    print(result[0][\"doc_id\"], result[0][\"vector_distance\"], flush=True)"
      ]
    },
    {
      "cell_type": "markdown",
      "metadata": {
        "id": "0Ap6WqPLT6LE"
      },
      "source": [
        "### Sort by alternative fields"
      ]
    },
    {
      "cell_type": "code",
      "execution_count": null,
      "metadata": {
        "id": "daLVm6OkLn9T"
      },
      "outputs": [],
      "source": [
        "# Sort by doc_id field after vector search limits to topK\n",
        "vector_query = VectorQuery(\n",
        "    vector=query_embedding,\n",
        "    vector_field_name=\"text_embedding\",\n",
        "    num_results=4,\n",
        "    return_fields=[\"doc_id\"],\n",
        "    return_score=True\n",
        ")\n",
        "\n",
        "# Decompose vector_query into the core query and the params\n",
        "query = vector_query.query\n",
        "params = vector_query.params\n",
        "\n",
        "# Pass query and params direct to index.search()\n",
        "result = index.search(\n",
        "    query.sort_by(\"doc_id\", asc=True),\n",
        "    params\n",
        ")\n",
        "\n",
        "[doc.__dict__ for doc in result.docs]"
      ]
    },
    {
      "cell_type": "markdown",
      "metadata": {
        "id": "81PoXomtT6LF"
      },
      "source": [
        "### Add filters to vector queries"
      ]
    },
    {
      "cell_type": "code",
      "execution_count": null,
      "metadata": {
        "id": "a11G3xXJ1ujC"
      },
      "outputs": [],
      "source": [
        "from redisvl.query.filter import Text\n",
        "\n",
        "vector_query = VectorQuery(\n",
        "    vector=query_embedding,\n",
        "    vector_field_name=\"text_embedding\",\n",
        "    num_results=4,\n",
        "    return_fields=[\"content\"],\n",
        "    return_score=True\n",
        ")\n",
        "\n",
        "# Set a text filter\n",
        "text_filter = Text(\"content\") % \"profit\"\n",
        "\n",
        "vector_query.set_filter(text_filter)\n",
        "\n",
        "index.query(vector_query)"
      ]
    },
    {
      "cell_type": "markdown",
      "metadata": {
        "id": "5XvVv8zAT6LF"
      },
      "source": [
        "### Range queries in RedisVL"
      ]
    },
    {
      "cell_type": "code",
      "execution_count": null,
      "metadata": {
        "id": "bCffoZRx1ujD"
      },
      "outputs": [],
      "source": [
        "from redisvl.query import RangeQuery\n",
        "\n",
        "range_query = RangeQuery(\n",
        "    vector=query_embedding,\n",
        "    vector_field_name=\"text_embedding\",\n",
        "    num_results=4,\n",
        "    return_fields=[\"content\"],\n",
        "    return_score=True,\n",
        "    distance_threshold=0.8  # find all items with a semantic distance of less than 0.8\n",
        ")"
      ]
    },
    {
      "cell_type": "code",
      "execution_count": null,
      "metadata": {
        "id": "0gHmam1Q1ujD"
      },
      "outputs": [],
      "source": [
        "index.query(range_query)"
      ]
    },
    {
      "cell_type": "code",
      "execution_count": null,
      "metadata": {
        "id": "YZg4U21r1ujD"
      },
      "outputs": [],
      "source": [
        "# Add filter to range query\n",
        "range_query.set_filter(text_filter)\n",
        "\n",
        "index.query(range_query)"
      ]
    },
    {
      "cell_type": "markdown",
      "metadata": {
        "id": "zYYPTQN7T6LG"
      },
      "source": [
        "## Building a RAG Pipeline from Scratch\n",
        "We're going to build a complete RAG pipeline from scratch incorporating the following components:\n",
        "\n",
        "- Standard retrieval and chat completion\n",
        "- Dense content representation to improve accuracy\n",
        "- Query re-writing to improve accuracy\n",
        "- Semantic caching to improve performance\n",
        "- Conversational session history to improve personalization"
      ]
    },
    {
      "cell_type": "markdown",
      "metadata": {
        "id": "rCWlVR2OT6LG"
      },
      "source": [
        "### Setup RedisVL AsyncSearchIndex"
      ]
    },
    {
      "cell_type": "code",
      "execution_count": null,
      "metadata": {
        "id": "_esLGYzbT6LG"
      },
      "outputs": [],
      "source": [
        "from redis.asyncio import Redis\n",
        "from redisvl.index import AsyncSearchIndex\n",
        "\n",
        "client = Redis.from_url(REDIS_URL)\n",
        "index = AsyncSearchIndex(index.schema, client)"
      ]
    },
    {
      "cell_type": "markdown",
      "metadata": {},
      "source": [
        "### Setup OpenAI API"
      ]
    },
    {
      "cell_type": "code",
      "execution_count": null,
      "metadata": {},
      "outputs": [],
      "source": [
        "import openai\n",
        "import os\n",
        "import getpass\n",
        "\n",
        "\n",
        "CHAT_MODEL = \"gpt-3.5-turbo-0125\"\n",
        "\n",
        "\n",
        "if \"OPENAI_API_KEY\" not in os.environ:\n",
        "    os.environ[\"OPENAI_API_KEY\"] = getpass.getpass(\"OPENAI_API_KEY\")\n"
      ]
    },
    {
      "cell_type": "markdown",
      "metadata": {
        "id": "w8Af-zneT6LH"
      },
      "source": [
        "### Baseline Retrieval Augmented Generation"
      ]
    },
    {
      "cell_type": "code",
      "execution_count": null,
      "metadata": {
        "id": "1V1Tio4-ZjmA"
      },
      "outputs": [],
      "source": [
        "\n",
        "async def answer_question(index: AsyncSearchIndex, query: str):\n",
        "    \"\"\"Answer the user's question\"\"\"\n",
        "\n",
        "    SYSTEM_PROMPT = \"\"\"You are a helpful financial analyst assistant that has access\n",
        "    to public financial 10k documents in order to answer users questions about company\n",
        "    performance, ethics, characteristics, and core information.\n",
        "    \"\"\"\n",
        "\n",
        "    query_vector = hf.embed(query)\n",
        "    # Fetch context from Redis using vector search\n",
        "    context = await retrieve_context(index, query_vector)\n",
        "    # Generate contextualized prompt and feed to OpenAI\n",
        "    response = await openai.AsyncClient().chat.completions.create(\n",
        "        model=CHAT_MODEL,\n",
        "        messages=[\n",
        "            {\"role\": \"system\", \"content\": SYSTEM_PROMPT},\n",
        "            {\"role\": \"user\", \"content\": promptify(query, context)}\n",
        "        ],\n",
        "        temperature=0.1,\n",
        "        seed=42\n",
        "    )\n",
        "    # Response provided by LLM\n",
        "    return response.choices[0].message.content\n",
        "\n",
        "\n",
        "async def retrieve_context(index: AsyncSearchIndex, query_vector) -> str:\n",
        "    \"\"\"Fetch the relevant context from Redis using vector search\"\"\"\n",
        "    results = await index.query(\n",
        "        VectorQuery(\n",
        "            vector=query_vector,\n",
        "            vector_field_name=\"text_embedding\",\n",
        "            return_fields=[\"content\"],\n",
        "            num_results=3\n",
        "        )\n",
        "    )\n",
        "    content = \"\\n\".join([result[\"content\"] for result in results])\n",
        "    return content\n",
        "\n",
        "\n",
        "def promptify(query: str, context: str) -> str:\n",
        "    return f'''Use the provided context below derived from public financial\n",
        "    documents to answer the user's question. If you can't answer the user's\n",
        "    question, based on the context; do not guess. If there is no context at all,\n",
        "    respond with \"I don't know\".\n",
        "\n",
        "    User question:\n",
        "\n",
        "    {query}\n",
        "\n",
        "    Helpful context:\n",
        "\n",
        "    {context}\n",
        "\n",
        "    Answer:\n",
        "    '''"
      ]
    },
    {
      "cell_type": "markdown",
      "metadata": {
        "id": "kgVM_g01T6LP"
      },
      "source": [
        "### Let's test it out..."
      ]
    },
    {
      "cell_type": "code",
      "execution_count": null,
      "metadata": {
        "id": "pn-PoACdbihY"
      },
      "outputs": [],
      "source": [
        "# Generate a list of questions\n",
        "questions = [\n",
        "    \"What is the trend in the company's revenue and profit over the past few years?\",\n",
        "    \"What are the company's primary revenue sources?\",\n",
        "    \"How much debt does the company have, and what are its capital expenditure plans?\",\n",
        "    \"What does the company say about its environmental, social, and governance (ESG) practices?\",\n",
        "    \"What is the company's strategy for growth?\"\n",
        "]"
      ]
    },
    {
      "cell_type": "code",
      "execution_count": null,
      "metadata": {
        "id": "9M_iU6_hbv0J"
      },
      "outputs": [],
      "source": [
        "import asyncio\n",
        "\n",
        "results = await asyncio.gather(*[\n",
        "    answer_question(index, question) for question in questions\n",
        "])"
      ]
    },
    {
      "cell_type": "code",
      "execution_count": null,
      "metadata": {
        "id": "7SZM_xg3b9Gb"
      },
      "outputs": [],
      "source": [
        "import pandas as pd\n",
        "\n",
        "pd.DataFrame(columns=[\"question\", \"answer\"], data=list(zip(questions, results)))"
      ]
    },
    {
      "cell_type": "markdown",
      "metadata": {},
      "source": [
        "### Improve accuracy with dense content representations\n",
        "\n",
        "One technique we can use to improve the quality of retrieval is to leverage an LLM from OpenAI during ETL. We will prompt the LLM to summarize and decompose the raw pdf text into more discrete propositional phrases. This will enhance the clarity of the text and improve semantic retrieval for RAG.\n",
        "\n",
        "The goal is to utilize a preprocessing technique similar to what's outlined here:\n",
        "https://github.com/langchain-ai/langchain/blob/master/templates/propositional-retrieval/propositional_retrieval/proposal_chain.py"
      ]
    },
    {
      "cell_type": "code",
      "execution_count": null,
      "metadata": {},
      "outputs": [],
      "source": [
        "import tqdm\n",
        "import json\n",
        "\n",
        "\n",
        "def create_dense_props(chunk):\n",
        "    \"\"\"Create dense representation of raw text content.\"\"\"\n",
        "\n",
        "    # The system message here should be HEAVILY customized for your specific use case\n",
        "    SYSTEM_PROMPT = \"\"\"\n",
        "    You are a helpful PDF extractor tool. You will be presented with segments from\n",
        "    raw PDF documents composed of 10k SEC filings information about public companies.\n",
        "\n",
        "    Decompose and summarize the raw content into clear and simple propositions,\n",
        "    ensuring they are interpretable out of context. Consider the following rules:\n",
        "    1. Split compound sentences into simpler dense phrases that retain existing\n",
        "    meaning.\n",
        "    2. Simplify technical jargon or wording if possible while retaining existing\n",
        "    meaning.\n",
        "    2. For any named entity that is accompanied by additional descriptive information,\n",
        "    separate this information into its own distinct proposition.\n",
        "    3. Decontextualize the proposition by adding necessary modifier to nouns or\n",
        "    entire sentences and replacing pronouns (e.g., \"it\", \"he\", \"she\", \"they\", \"this\", \"that\")\n",
        "    with the full name of the entities they refer to.\n",
        "    4. Present the results as a list of strings, formatted in JSON, under the key \"propositions\".\n",
        "    \"\"\"\n",
        "\n",
        "    response = openai.OpenAI().chat.completions.create(\n",
        "        model=CHAT_MODEL,\n",
        "        response_format={ \"type\": \"json_object\" },\n",
        "        messages=[\n",
        "            {\"role\": \"system\", \"content\": SYSTEM_PROMPT},\n",
        "            {\"role\": \"user\", \"content\": f\"Decompose this raw content using the rules above:\\n{chunk.page_content} \"}\n",
        "        ]\n",
        "    )\n",
        "    res = response.choices[0].message.content\n",
        "\n",
        "    try:\n",
        "        return json.loads(res)[\"propositions\"]\n",
        "    except Exception as e:\n",
        "        print(f\"Failed to parse propositions\", str(e), flush=True)\n",
        "        # Retry\n",
        "        return create_dense_props(chunk)"
      ]
    },
    {
      "cell_type": "markdown",
      "metadata": {},
      "source": [
        "#### Create text propositions using OpenAI"
      ]
    },
    {
      "cell_type": "code",
      "execution_count": null,
      "metadata": {},
      "outputs": [],
      "source": [
        "propositions = [create_dense_props(chunk) for chunk in tqdm.tqdm(chunks)]"
      ]
    },
    {
      "cell_type": "code",
      "execution_count": null,
      "metadata": {},
      "outputs": [],
      "source": [
        "propositions = [\" \".join(prop) for prop in propositions]"
      ]
    },
    {
      "cell_type": "code",
      "execution_count": null,
      "metadata": {},
      "outputs": [],
      "source": [
        "propositions[5:10]"
      ]
    },
    {
      "cell_type": "code",
      "execution_count": null,
      "metadata": {},
      "outputs": [],
      "source": [
        "# Save to disk for faster reload..\n",
        "with open(\"propositions.json\", \"w\") as f:\n",
        "    json.dump(propositions, f)"
      ]
    },
    {
      "cell_type": "code",
      "execution_count": null,
      "metadata": {},
      "outputs": [],
      "source": [
        "# Load from disk... if possible.\n",
        "with open(\"propositions.json\", \"r\") as f:\n",
        "    propositions = json.load(f)"
      ]
    },
    {
      "cell_type": "markdown",
      "metadata": {},
      "source": [
        "#### Create embeddings from propositions data"
      ]
    },
    {
      "cell_type": "code",
      "execution_count": null,
      "metadata": {},
      "outputs": [],
      "source": [
        "prop_embeddings = hf.embed_many([\n",
        "    proposition for proposition in propositions\n",
        "])\n",
        "\n",
        "# Check to make sure we've created enough embeddings, 1 per document chunk\n",
        "len(prop_embeddings) == len(propositions) == len(chunks)"
      ]
    },
    {
      "cell_type": "markdown",
      "metadata": {},
      "source": [
        "#### Upsert Redis"
      ]
    },
    {
      "cell_type": "code",
      "execution_count": null,
      "metadata": {},
      "outputs": [],
      "source": [
        "keys = await index.load([\n",
        "    {\n",
        "        \"doc_id\": f\"{i}\",\n",
        "        \"propositions\": proposition,\n",
        "        # For HASH -- must convert embeddings to bytes\n",
        "        \"text_embedding\": array_to_buffer(prop_embeddings[i])\n",
        "    } for i, proposition in enumerate(propositions)],\n",
        "    id_field=\"doc_id\"\n",
        ")"
      ]
    },
    {
      "cell_type": "markdown",
      "metadata": {},
      "source": [
        "#### Adjust the schema and recreate"
      ]
    },
    {
      "cell_type": "code",
      "execution_count": null,
      "metadata": {},
      "outputs": [],
      "source": [
        "index.schema.add_field({\"name\": \"propositions\", \"type\": \"text\"})\n",
        "\n",
        "# create new index on same underlying data\n",
        "await index.create(overwrite=True, drop=False)"
      ]
    },
    {
      "cell_type": "markdown",
      "metadata": {},
      "source": [
        "#### Test the updated RAG workflow"
      ]
    },
    {
      "cell_type": "code",
      "execution_count": null,
      "metadata": {},
      "outputs": [],
      "source": [
        "# Update the retrieval helper to use propositions\n",
        "async def retrieve_context(index: AsyncSearchIndex, query_vector) -> str:\n",
        "    \"\"\"Fetch the relevant context from Redis using vector search\"\"\"\n",
        "    print(\"Using dense content representation\", flush=True)\n",
        "    results = await index.query(\n",
        "        VectorQuery(\n",
        "            vector=query_vector,\n",
        "            vector_field_name=\"text_embedding\",\n",
        "            return_fields=[\"propositions\"],\n",
        "            num_results=3\n",
        "        )\n",
        "    )\n",
        "    content = \"\\n\".join([result[\"propositions\"] for result in results])\n",
        "    return content\n",
        "\n",
        "# Update the answer_question method\n",
        "async def answer_question(index: AsyncSearchIndex, query: str):\n",
        "    \"\"\"Answer the user's question\"\"\"\n",
        "\n",
        "    SYSTEM_PROMPT = \"\"\"You are a helpful financial analyst assistant that has access\n",
        "    to public financial 10k documents in order to answer users questions about company\n",
        "    performance, ethics, characteristics, and core information.\n",
        "    \"\"\"\n",
        "\n",
        "    query_vector = hf.embed(query)\n",
        "    # Fetch context from Redis using vector search\n",
        "    context = await retrieve_context(index, query_vector)\n",
        "    # Generate contextualized prompt and feed to OpenAI\n",
        "    response = await openai.AsyncClient().chat.completions.create(\n",
        "        model=CHAT_MODEL,\n",
        "        messages=[\n",
        "            {\"role\": \"system\", \"content\": SYSTEM_PROMPT},\n",
        "            {\"role\": \"user\", \"content\": promptify(query, context)}\n",
        "        ],\n",
        "        temperature=0.1,\n",
        "        seed=42\n",
        "    )\n",
        "    # Response provided by LLM\n",
        "    return response.choices[0].message.content"
      ]
    },
    {
      "cell_type": "code",
      "execution_count": null,
      "metadata": {},
      "outputs": [],
      "source": [
        "results = await asyncio.gather(*[\n",
        "    answer_question(index, question) for question in questions\n",
        "])\n",
        "\n",
        "pd.DataFrame(columns=[\"question\", \"answer\"], data=list(zip(questions, results)))"
      ]
    },
    {
      "cell_type": "markdown",
      "metadata": {
        "id": "TnkK0NwIIM9q"
      },
      "source": [
        "### Improve accuracy with query rewriting / expansion\n",
        "\n",
        "We can also use the power on an LLM to rewrite or expand an input question.\n",
        "\n",
        "Example: https://github.com/langchain-ai/langchain/blob/master/templates/rewrite-retrieve-read/rewrite_retrieve_read/chain.py"
      ]
    },
    {
      "cell_type": "code",
      "execution_count": null,
      "metadata": {
        "id": "XnWhfeiGYVrI"
      },
      "outputs": [],
      "source": [
        "# An example question that is a bit simplistic...\n",
        "await answer_question(index, \"How big is the company?\")"
      ]
    },
    {
      "cell_type": "code",
      "execution_count": null,
      "metadata": {
        "id": "Tg55HqLFIRXJ"
      },
      "outputs": [],
      "source": [
        "async def rewrite_query(query: str, prompt: str = None):\n",
        "    \"\"\"Rewrite the user's original query\"\"\"\n",
        "\n",
        "    SYSTEM_PROMPT = prompt if prompt else \"\"\"Given the user's input question below, find a better or\n",
        "    more complete way to phrase this question in order to improve semantic search\n",
        "    engine retrieval quality over a set of SEC 10K PDF docs. Return the rephrased\n",
        "    question as a string in a JSON response under the key \"query\".\"\"\"\n",
        "\n",
        "    response = await openai.AsyncClient().chat.completions.create(\n",
        "        model=CHAT_MODEL,\n",
        "        response_format={ \"type\": \"json_object\" },\n",
        "        messages=[\n",
        "            {\"role\": \"system\", \"content\": SYSTEM_PROMPT},\n",
        "            {\"role\": \"user\", \"content\": f\"Original input question from user: {query}\"}\n",
        "        ],\n",
        "        temperature=0.1,\n",
        "        seed=42\n",
        "    )\n",
        "    # Response provided by LLM\n",
        "    rewritten_query = json.loads(response.choices[0].message.content)[\"query\"]\n",
        "    return rewritten_query"
      ]
    },
    {
      "cell_type": "code",
      "execution_count": null,
      "metadata": {
        "id": "8_ce8fC8KR50"
      },
      "outputs": [],
      "source": [
        "# Example Sinple Query Rewritten\n",
        "await rewrite_query(\"How big is the company?\")"
      ]
    },
    {
      "cell_type": "code",
      "execution_count": null,
      "metadata": {
        "id": "9ubNQrJOYL42"
      },
      "outputs": [],
      "source": [
        "async def answer_question(index: AsyncSearchIndex, query: str, **kwargs):\n",
        "    \"\"\"Answer the user's question\"\"\"\n",
        "\n",
        "    SYSTEM_PROMPT = \"\"\"You are a helpful financial analyst assistant that has access\n",
        "    to public financial 10k documents in order to answer users questions about company\n",
        "    performance, ethics, characteristics, and core information.\n",
        "    \"\"\"\n",
        "\n",
        "    # Rewrite the query using an LLM\n",
        "    rewritten_query = await rewrite_query(query, **kwargs)\n",
        "    print(\"User query updated to:\\n\", rewritten_query, flush=True)\n",
        "\n",
        "    query_vector = hf.embed(rewritten_query)\n",
        "    # Fetch context from Redis using vector search\n",
        "    context = await retrieve_context(index, query_vector)\n",
        "    print(\"Context retrieved\", flush=True)\n",
        "\n",
        "    # Generate contextualized prompt and feed to OpenAI\n",
        "    response = await openai.AsyncClient().chat.completions.create(\n",
        "        model=CHAT_MODEL,\n",
        "        messages=[\n",
        "            {\"role\": \"system\", \"content\": SYSTEM_PROMPT},\n",
        "            {\"role\": \"user\", \"content\": promptify(rewritten_query, context)}\n",
        "        ],\n",
        "        temperature=0.1,\n",
        "        seed=42\n",
        "    )\n",
        "    # Response provided by LLM\n",
        "    return response.choices[0].message.content"
      ]
    },
    {
      "cell_type": "code",
      "execution_count": null,
      "metadata": {
        "id": "BIO_jW6KYsMU"
      },
      "outputs": [],
      "source": [
        "# Now try again with query re-writing enabled\n",
        "await answer_question(index, \"How big is the company?\")"
      ]
    },
    {
      "cell_type": "markdown",
      "metadata": {
        "id": "p97uL4g9T6LQ"
      },
      "source": [
        "### Improve performance and cut costs with LLM caching"
      ]
    },
    {
      "cell_type": "code",
      "execution_count": null,
      "metadata": {
        "id": "7geEAsYST6LQ"
      },
      "outputs": [],
      "source": [
        "from redisvl.extensions.llmcache import SemanticCache\n",
        "\n",
        "llmcache = SemanticCache(\n",
        "    name=\"llmcache\",\n",
        "    vectorizer=hf,\n",
        "    redis_url=REDIS_URL,\n",
        "    ttl=120,\n",
        "    distance_threshold=0.2\n",
        ")"
      ]
    },
    {
      "cell_type": "code",
      "execution_count": null,
      "metadata": {
        "id": "1ALcQXAqT6LQ"
      },
      "outputs": [],
      "source": [
        "from functools import wraps\n",
        "\n",
        "# Create an LLM caching decorator\n",
        "def cache(func):\n",
        "    @wraps(func)\n",
        "    async def wrapper(index, query_text, *args, **kwargs):\n",
        "        query_vector = llmcache._vectorizer.embed(query_text)\n",
        "\n",
        "        # Check the cache with the vector\n",
        "        if result := llmcache.check(vector=query_vector):\n",
        "            return result[0]['response']\n",
        "\n",
        "        response = await func(index, query_text, query_vector=query_vector)\n",
        "        llmcache.store(query_text, response, query_vector)\n",
        "        return response\n",
        "    return wrapper\n",
        "\n",
        "\n",
        "@cache\n",
        "async def answer_question(index: AsyncSearchIndex, query: str, **kwargs):\n",
        "    \"\"\"Answer the user's question\"\"\"\n",
        "\n",
        "    SYSTEM_PROMPT = \"\"\"You are a helpful financial analyst assistant that has access\n",
        "    to public financial 10k documents in order to answer users questions about company\n",
        "    performance, ethics, characteristics, and core information.\n",
        "    \"\"\"\n",
        "\n",
        "    context = await retrieve_context(index, kwargs[\"query_vector\"])\n",
        "    response = await openai.AsyncClient().chat.completions.create(\n",
        "        model=CHAT_MODEL,\n",
        "        messages=[\n",
        "            {\"role\": \"system\", \"content\": SYSTEM_PROMPT},\n",
        "            {\"role\": \"user\", \"content\": promptify(query, context)}\n",
        "        ],\n",
        "        temperature=0.1,\n",
        "        seed=42\n",
        "    )\n",
        "    # Response provided by GPT-3.5\n",
        "    return response.choices[0].message.content"
      ]
    },
    {
      "cell_type": "code",
      "execution_count": null,
      "metadata": {
        "id": "BXK_BXuhT6LQ"
      },
      "outputs": [],
      "source": [
        "query = \"What was Nike's revenue last year compared to this year??\"\n",
        "\n",
        "await answer_question(index, query)"
      ]
    },
    {
      "cell_type": "code",
      "execution_count": null,
      "metadata": {
        "id": "7mZpSpf9T6LQ"
      },
      "outputs": [],
      "source": [
        "query = \"What was Nike's total revenue in the last year compared to now??\"\n",
        "\n",
        "await answer_question(index, query)\n",
        "\n",
        "# notice no HTTP request to OpenAI since this question is \"close enough\" to the last one"
      ]
    },
    {
      "cell_type": "markdown",
      "metadata": {
        "id": "UaiF_ws7itsi"
      },
      "source": [
        "### Improve personalization with including chat session history\n",
        "\n",
        "In order to preserve state in the conversation, it's imperitive to offload conversation history to a database that can handle high transaction throughput for writes/reads to limit system latency.\n",
        "\n",
        "We can store message history for a particular user session in a Redis List data type.\n"
      ]
    },
    {
      "cell_type": "code",
      "execution_count": null,
      "metadata": {
        "id": "WMOF7fJQdhgN"
      },
      "outputs": [],
      "source": [
        "import json\n",
        "\n",
        "\n",
        "class ChatBot:\n",
        "    def __init__(self, index: AsyncSearchIndex, user: str):\n",
        "        self.index = index\n",
        "        self.user = user\n",
        "\n",
        "    async def get_messages(self) -> list:\n",
        "        \"\"\"Get all messages associated with a session\"\"\"\n",
        "        return [\n",
        "            json.loads(msg) for msg in await self.index.client.lrange(f\"messages:{self.user}\", 0, -1)\n",
        "        ]\n",
        "\n",
        "    async def add_messages(self, messages: list):\n",
        "        \"\"\"Add chat messages to a Redis List\"\"\"\n",
        "        return await self.index.client.rpush(\n",
        "            f\"messages:{self.user}\", *[json.dumps(msg) for msg in messages]\n",
        "        )\n",
        "\n",
        "    async def clear_history(self):\n",
        "        \"\"\"Clear session chat\"\"\"\n",
        "        await index.client.delete(f\"messages:{self.user}\")\n",
        "\n",
        "    @staticmethod\n",
        "    def promptify(query: str, context: str) -> str:\n",
        "        return f'''Use the provided context below derived from public financial\n",
        "        documents to answer the user's question. If you can't answer the user's\n",
        "        question, based on the context; do not guess. If there is no context at all,\n",
        "        respond with \"I don't know\".\n",
        "\n",
        "        User question:\n",
        "\n",
        "        {query}\n",
        "\n",
        "        Helpful context:\n",
        "\n",
        "        {context}\n",
        "\n",
        "        Answer:\n",
        "        '''\n",
        "\n",
        "    async def retrieve_context(self, query_vector) -> str:\n",
        "        \"\"\"Fetch the relevant context from Redis using vector search\"\"\"\n",
        "        results = await self.index.query(\n",
        "            VectorQuery(\n",
        "                vector=query_vector,\n",
        "                vector_field_name=\"text_embedding\",\n",
        "                return_fields=[\"propositions\"],\n",
        "                num_results=3\n",
        "            )\n",
        "        )\n",
        "        content = \"\\n\".join([result[\"propositions\"] for result in results])\n",
        "        return content\n",
        "\n",
        "    async def answer_question(self, query: str):\n",
        "        \"\"\"Answer the user's question with historical context and caching baked-in\"\"\"\n",
        "\n",
        "        SYSTEM_PROMPT = \"\"\"You are a helpful financial analyst assistant that has access\n",
        "        to public financial 10k documents in order to answer users questions about company\n",
        "        performance, ethics, characteristics, and core information.\n",
        "        \"\"\"\n",
        "\n",
        "        # Create query vector\n",
        "        query_vector = llmcache._vectorizer.embed(query)\n",
        "\n",
        "        # TODO - implement semantic gaurdrails?\n",
        "\n",
        "        # Check the cache with the vector\n",
        "        if result := llmcache.check(vector=query_vector):\n",
        "            answer = result[0]['response']\n",
        "        else:\n",
        "            # TODO - implement query rewriting?\n",
        "            context = await self.retrieve_context(query_vector)\n",
        "            session = await self.get_messages()\n",
        "            # TODO - implement session summarization?\n",
        "            messages = (\n",
        "                [{\"role\": \"system\", \"content\": SYSTEM_PROMPT}] +\n",
        "                session +\n",
        "                [{\"role\": \"user\", \"content\": self.promptify(query, context)}]\n",
        "            )\n",
        "            # Response provided by GPT-3.5\n",
        "            response = await openai.AsyncClient().chat.completions.create(\n",
        "                model=CHAT_MODEL,\n",
        "                messages=messages,\n",
        "                temperature=0.1,\n",
        "                seed=42\n",
        "            )\n",
        "            answer = response.choices[0].message.content\n",
        "            llmcache.store(query, answer, query_vector)\n",
        "\n",
        "        # Add message history\n",
        "        await self.add_messages([\n",
        "            {\"role\": \"user\", \"content\": query},\n",
        "            {\"role\": \"assistant\", \"content\": answer}\n",
        "        ])\n",
        "\n",
        "        return answer"
      ]
    },
    {
      "cell_type": "markdown",
      "metadata": {},
      "source": [
        "## Test the entire RAG workflow"
      ]
    },
    {
      "cell_type": "code",
      "execution_count": null,
      "metadata": {
        "id": "_Z3RUvyxdhiz"
      },
      "outputs": [],
      "source": [
        "# Setup Session\n",
        "chat = ChatBot(index, \"tyler\")\n",
        "await chat.clear_history()"
      ]
    },
    {
      "cell_type": "code",
      "execution_count": null,
      "metadata": {},
      "outputs": [],
      "source": [
        "# Run a simple chat\n",
        "stopterms = [\"exit\", \"quit\", \"end\", \"cancel\"]\n",
        "\n",
        "# Simple Chat\n",
        "while True:\n",
        "    user_query = input()\n",
        "    if user_query.lower() in stopterms:\n",
        "        break\n",
        "    answer = await chat.answer_question(user_query)\n",
        "    print(answer, flush=True)"
      ]
    },
    {
      "cell_type": "code",
      "execution_count": null,
      "metadata": {
        "id": "ZoPQMAShZ5Uy"
      },
      "outputs": [],
      "source": [
        "await chat.get_messages()"
      ]
    },
    {
      "cell_type": "markdown",
      "metadata": {
        "id": "5l4uEgKzljes"
      },
      "source": [
        "## Your Next Steps\n",
        "\n",
        "While a good start, there is still more to do. **For example**:\n",
        "- we could utilize message history to generate an updated and contextualized query to use for retrieval and answer generation (with an LLM). Otherwise, there can be a disconnect between what a user is asking (in context) and what they are asking in isolation.\n",
        "- we could utilize an LLM to summarize conversation history to use as context instead of passing the whole slew of messages to the Chat endpoint.\n",
        "- we could utilize semantic properties of the message history (or summaries) in order to fetch only relevant conversation bits (vector search).\n",
        "- we could utilize a technique like HyDE ( a form of query rewriting ) to improve the retrieval quality from raw user input to source documents OR try to break down user questions into sub questions and fetch / join context based on the different searces.\n",
        "- we could incorporate semantic routing to take a broken down question and route to different data sources, indices, or query types (etc).\n",
        "- we could add semantic guardrails on the front end or back end of the conversation I/O to ensure we are within bounds of approved topics."
      ]
    },
    {
      "cell_type": "markdown",
      "metadata": {
        "id": "Wscs4Mvo1ujD"
      },
      "source": [
        "## Cleanup\n",
        "\n",
        "Clean up the database."
      ]
    },
    {
      "cell_type": "code",
      "execution_count": null,
      "metadata": {
        "id": "On6yNuQn1ujD"
      },
      "outputs": [],
      "source": [
        "await index.client.flushall()"
      ]
    },
    {
      "cell_type": "markdown",
      "metadata": {
        "id": "oU9qZsAn1ujD"
      },
      "source": [
        "Now that you have tried the easy-to-use RedisVL client, try your hand with LangChain -- the highest level of abstraction for using and integrating Redis as a vector database.\n",
        "\n",
        "\n",
        "<a href=\"https://colab.research.google.com/github/redis-developer/financial-vss/blob/main/langchain-03.ipynb\" target=\"_parent\"><img src=\"https://colab.research.google.com/assets/colab-badge.svg\" alt=\"Open In Colab\"/></a>"
      ]
    }
  ],
  "metadata": {
    "accelerator": "GPU",
    "colab": {
      "gpuType": "T4",
      "provenance": []
    },
    "kernelspec": {
      "display_name": "Python 3 (ipykernel)",
      "language": "python",
      "name": "python3"
    },
    "language_info": {
      "codemirror_mode": {
        "name": "ipython",
        "version": 3
      },
      "file_extension": ".py",
      "mimetype": "text/x-python",
      "name": "python",
      "nbconvert_exporter": "python",
      "pygments_lexer": "ipython3",
      "version": "3.9.18"
    }
  },
  "nbformat": 4,
  "nbformat_minor": 0
}
